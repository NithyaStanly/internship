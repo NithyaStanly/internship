{
  "nbformat": 4,
  "nbformat_minor": 0,
  "metadata": {
    "colab": {
      "provenance": [],
      "include_colab_link": true
    },
    "kernelspec": {
      "name": "python3",
      "display_name": "Python 3"
    },
    "language_info": {
      "name": "python"
    }
  },
  "cells": [
    {
      "cell_type": "markdown",
      "metadata": {
        "id": "view-in-github",
        "colab_type": "text"
      },
      "source": [
        "<a href=\"https://colab.research.google.com/github/NithyaStanly/internship/blob/main/day1act.ipynb\" target=\"_parent\"><img src=\"https://colab.research.google.com/assets/colab-badge.svg\" alt=\"Open In Colab\"/></a>"
      ]
    },
    {
      "cell_type": "code",
      "execution_count": null,
      "metadata": {
        "colab": {
          "base_uri": "https://localhost:8080/"
        },
        "id": "B8NYt0liDzzR",
        "outputId": "e170c4b2-8864-4f66-cd6d-0a99c1cfd510"
      },
      "outputs": [
        {
          "output_type": "stream",
          "name": "stdout",
          "text": [
            "Enter your name: devika\n",
            "Welcome to Data Analytics, devika!\n"
          ]
        }
      ],
      "source": [
        "name = input(\"Enter your name: \")\n",
        "print(f\"Welcome to Data Analytics, {name}!\")"
      ]
    },
    {
      "cell_type": "code",
      "source": [
        "favorite_snack = \"Chips\"\n",
        "print(f\"I love munching on {favorite_snack} during meetings!\")\n"
      ],
      "metadata": {
        "colab": {
          "base_uri": "https://localhost:8080/"
        },
        "id": "7bYTUFh4FZTg",
        "outputId": "963f0dda-b0c5-4ed8-d2e3-6be915719bf1"
      },
      "execution_count": null,
      "outputs": [
        {
          "output_type": "stream",
          "name": "stdout",
          "text": [
            "I love munching on Chips during meetings!\n"
          ]
        }
      ]
    },
    {
      "cell_type": "code",
      "source": [
        "tasks_completed = 15\n",
        "next_week_tasks = tasks_completed * 2\n",
        "print(f\"Tasks expected next week: {next_week_tasks}\")\n"
      ],
      "metadata": {
        "colab": {
          "base_uri": "https://localhost:8080/"
        },
        "id": "PJu8_byxFdj0",
        "outputId": "0099baaa-64cf-48aa-b937-e37e7e9c32d0"
      },
      "execution_count": null,
      "outputs": [
        {
          "output_type": "stream",
          "name": "stdout",
          "text": [
            "Tasks expected next week: 30\n"
          ]
        }
      ]
    },
    {
      "cell_type": "code",
      "source": [
        "income = 5000\n",
        "expenses = 3200\n",
        "savings = income - expenses\n",
        "print(f\"Monthly savings: ${savings}\")"
      ],
      "metadata": {
        "colab": {
          "base_uri": "https://localhost:8080/"
        },
        "id": "Re2DvfD2FqCg",
        "outputId": "30b1bf2d-017f-499c-bdfa-fe237c576008"
      },
      "execution_count": null,
      "outputs": [
        {
          "output_type": "stream",
          "name": "stdout",
          "text": [
            "Monthly savings: $1800\n"
          ]
        }
      ]
    },
    {
      "cell_type": "code",
      "source": [
        "friends = 5\n",
        "popcorn_per_friend = 2\n",
        "total_popcorn = friends * popcorn_per_friend\n",
        "print(f\"Total popcorn bags needed: {total_popcorn}\")"
      ],
      "metadata": {
        "colab": {
          "base_uri": "https://localhost:8080/"
        },
        "id": "B4AVfCVoHQ0y",
        "outputId": "a2991378-69c7-4f2c-b201-ef03ac10bfcd"
      },
      "execution_count": null,
      "outputs": [
        {
          "output_type": "stream",
          "name": "stdout",
          "text": [
            "Total popcorn bags needed: 10\n"
          ]
        }
      ]
    },
    {
      "cell_type": "code",
      "source": [
        "rating = int(input(\"Rate the product (1-5): \"))\n",
        "if rating > 3:\n",
        "    print(\"Thanks for the great rating!\")\n",
        "else:\n",
        "    print(\"We'll work on improving it!\")"
      ],
      "metadata": {
        "colab": {
          "base_uri": "https://localhost:8080/"
        },
        "id": "kZamZlObHmTS",
        "outputId": "857a6804-0fa1-4047-fac5-b37ec0652c0f"
      },
      "execution_count": null,
      "outputs": [
        {
          "output_type": "stream",
          "name": "stdout",
          "text": [
            "Rate the product (1-5): 4\n",
            "Thanks for the great rating!\n"
          ]
        }
      ]
    },
    {
      "cell_type": "markdown",
      "source": [],
      "metadata": {
        "id": "5yacejp9HvaX"
      }
    },
    {
      "cell_type": "code",
      "source": [
        "sales_last_month = 50\n",
        "sales_this_month = 75\n",
        "sales_next_month = 100\n",
        "average_sales = (sales_last_month + sales_this_month + sales_next_month) / 3\n",
        "print(f\"Average sales over three months: {average_sales}\")"
      ],
      "metadata": {
        "colab": {
          "base_uri": "https://localhost:8080/"
        },
        "id": "LZ5AMLfaHwSd",
        "outputId": "89b0a1f0-79b1-4318-845a-473170eadc3c"
      },
      "execution_count": null,
      "outputs": [
        {
          "output_type": "stream",
          "name": "stdout",
          "text": [
            "Average sales over three months: 75.0\n"
          ]
        }
      ]
    },
    {
      "cell_type": "code",
      "source": [
        "\n",
        "import math\n",
        "\n",
        "noGuest = 10\n",
        "slicePGuest= 1\n",
        "slicePcake = 8\n",
        "cakeCount = math.ceil((noGuest*slicePGuest)/slicePcake)\n",
        "print(f'You need {cakeCount} cakes')\n"
      ],
      "metadata": {
        "colab": {
          "base_uri": "https://localhost:8080/"
        },
        "id": "xr3xhUPYwkPF",
        "outputId": "bcd41a31-06a2-4aac-d437-db42de2eb06f"
      },
      "execution_count": null,
      "outputs": [
        {
          "output_type": "stream",
          "name": "stdout",
          "text": [
            "You need 2 cakes\n"
          ]
        }
      ]
    },
    {
      "cell_type": "code",
      "source": [
        "principal = 500\n",
        "rate = 0.04\n",
        "time = 3\n",
        "simple_interest = principal * rate * time\n",
        "total_amount = principal + simple_interest\n",
        "print(f\"Total amount after 3 years: ${total_amount}\")"
      ],
      "metadata": {
        "colab": {
          "base_uri": "https://localhost:8080/"
        },
        "id": "P5V-8OrmH5wr",
        "outputId": "ca232d52-c22b-4e15-fccf-46210ab3b9e9"
      },
      "execution_count": null,
      "outputs": [
        {
          "output_type": "stream",
          "name": "stdout",
          "text": [
            "Total amount after 3 years: $560.0\n"
          ]
        }
      ]
    },
    {
      "cell_type": "code",
      "source": [
        "\n",
        "import math\n",
        "\n",
        "noGuest = 10\n",
        "slicePGuest= 1\n",
        "slicePcake = 8\n",
        "cakeCount = math.ceil((noGuest*slicePGuest)/slicePcake)\n",
        "print(f'You need {cakeCount} cakes')"
      ],
      "metadata": {
        "colab": {
          "base_uri": "https://localhost:8080/"
        },
        "id": "hmcZFs-InvpZ",
        "outputId": "5c1eebe1-384f-4c89-d3d4-7313622c6847"
      },
      "execution_count": null,
      "outputs": [
        {
          "output_type": "stream",
          "name": "stdout",
          "text": [
            "You need 2 cakes\n"
          ]
        }
      ]
    },
    {
      "cell_type": "code",
      "source": [
        "\n",
        "total=1000\n",
        "stud_recv=750\n",
        "print(f'Percentage of scholarship: {(stud_recv/total)*100}%')\n",
        "print(\"Congratulations\")"
      ],
      "metadata": {
        "colab": {
          "base_uri": "https://localhost:8080/"
        },
        "id": "MWjzJyQ2w_ey",
        "outputId": "a6c73a6e-4e9f-4481-98cc-b76e8cee8db0"
      },
      "execution_count": null,
      "outputs": [
        {
          "output_type": "stream",
          "name": "stdout",
          "text": [
            "Percentage of scholarship: 75.0%\n",
            "Congratulations\n"
          ]
        }
      ]
    },
    {
      "cell_type": "code",
      "source": [
        "text = \"Empowering data decisions\"\n",
        "if len(text) > 10:\n",
        "    print(\"That's a strong and long message!\")\n",
        "else:\n",
        "    print(\"Short and sweet!\")"
      ],
      "metadata": {
        "colab": {
          "base_uri": "https://localhost:8080/"
        },
        "id": "AiQQ5JalIIeV",
        "outputId": "2ae06212-d4d1-4910-9c85-fd4e9d82eca3"
      },
      "execution_count": null,
      "outputs": [
        {
          "output_type": "stream",
          "name": "stdout",
          "text": [
            "That's a strong and long message!\n"
          ]
        }
      ]
    },
    {
      "cell_type": "code",
      "source": [],
      "metadata": {
        "id": "K9YKiXwPxTlm"
      },
      "execution_count": null,
      "outputs": []
    },
    {
      "cell_type": "code",
      "source": [
        "product_A_sales = 250\n",
        "product_B_sales = 300\n",
        "if product_A_sales > product_B_sales:\n",
        "    print(\"Product A sold more!\")\n",
        "else:\n",
        "    print(\"Product B sold more!\")"
      ],
      "metadata": {
        "colab": {
          "base_uri": "https://localhost:8080/"
        },
        "id": "lqGNmsj1IUuc",
        "outputId": "bb57eb15-47b6-4aec-a238-247fb82049c1"
      },
      "execution_count": null,
      "outputs": [
        {
          "output_type": "stream",
          "name": "stdout",
          "text": [
            "Product B sold more!\n"
          ]
        }
      ]
    },
    {
      "cell_type": "code",
      "source": [
        "\n",
        "total=1000\n",
        "stud_recv=750\n",
        "print(f'Percentage of scholarship: {(stud_recv/total)*100}%')\n",
        "print(\"Congratulations\")"
      ],
      "metadata": {
        "colab": {
          "base_uri": "https://localhost:8080/"
        },
        "id": "kd7eJjqDo0GY",
        "outputId": "b2c05fcb-16d8-4590-cfc0-30ccead371dc"
      },
      "execution_count": null,
      "outputs": [
        {
          "output_type": "stream",
          "name": "stdout",
          "text": [
            "Percentage of scholarship: 75.0%\n",
            "Congratulations\n"
          ]
        }
      ]
    },
    {
      "cell_type": "code",
      "source": [
        "favorite_color = \"Blue\"\n",
        "print(f\"My favorite color is {favorite_color}\")\n",
        "\n",
        "# 14. Basic Arithmetic\n",
        "a = 10\n",
        "b = 20\n",
        "sum_result = a + b\n",
        "print(f\"Sum of a and b is: {sum_result}\")"
      ],
      "metadata": {
        "colab": {
          "base_uri": "https://localhost:8080/"
        },
        "id": "clzFn89lIZcH",
        "outputId": "1fa458b3-26fe-4731-a57a-b1639e8a81e1"
      },
      "execution_count": null,
      "outputs": [
        {
          "output_type": "stream",
          "name": "stdout",
          "text": [
            "My favorite color is Blue\n",
            "Sum of a and b is: 30\n"
          ]
        }
      ]
    },
    {
      "cell_type": "code",
      "source": [
        "length = 5\n",
        "width = 3\n",
        "area_rectangle = length * width\n",
        "print(f\"Area of rectangle: {area_rectangle}\")"
      ],
      "metadata": {
        "colab": {
          "base_uri": "https://localhost:8080/"
        },
        "id": "9l5wufOVIjUB",
        "outputId": "b65f382e-6eab-4e93-f021-9f8146834595"
      },
      "execution_count": null,
      "outputs": [
        {
          "output_type": "stream",
          "name": "stdout",
          "text": [
            "Area of rectangle: 15\n"
          ]
        }
      ]
    },
    {
      "cell_type": "code",
      "source": [
        "import math\n",
        "radius = 7\n",
        "pi = math.pi\n",
        "areaOfCircle = pi*math.pow(radius,2)\n",
        "print(f\"Area of Circle: {areaOfCircle}\")"
      ],
      "metadata": {
        "colab": {
          "base_uri": "https://localhost:8080/"
        },
        "id": "AaXtpcCdxXr4",
        "outputId": "71bfec0c-b1f9-4174-afe0-f9b9a2d9965a"
      },
      "execution_count": null,
      "outputs": [
        {
          "output_type": "stream",
          "name": "stdout",
          "text": [
            "Area of Circle: 153.93804002589985\n"
          ]
        }
      ]
    },
    {
      "cell_type": "code",
      "source": [
        "num = 15\n",
        "if num % 2 == 0:\n",
        "    print(f\"{num} is Even\")\n",
        "else:\n",
        "    print(f\"{num} is Odd\")\n"
      ],
      "metadata": {
        "colab": {
          "base_uri": "https://localhost:8080/"
        },
        "id": "FJDfrAM2Ivcb",
        "outputId": "1c622cd0-6cb5-4e04-b038-c1d2bb13da93"
      },
      "execution_count": null,
      "outputs": [
        {
          "output_type": "stream",
          "name": "stdout",
          "text": [
            "15 is Odd\n"
          ]
        }
      ]
    },
    {
      "cell_type": "code",
      "source": [
        "a = 10\n",
        "b = 20\n",
        "sum = a + b\n",
        "print(\"The sum is:\", sum)\n",
        "\n"
      ],
      "metadata": {
        "colab": {
          "base_uri": "https://localhost:8080/"
        },
        "id": "6F4B_JjAI2yu",
        "outputId": "f138a029-a5e1-4343-8283-56e907d79acb"
      },
      "execution_count": null,
      "outputs": [
        {
          "output_type": "stream",
          "name": "stdout",
          "text": [
            "The sum is: 30\n"
          ]
        }
      ]
    },
    {
      "cell_type": "code",
      "source": [
        "num1, num2, num3 = 10, 20, 30\n",
        "average = (num1 + num2 + num3) / 3\n",
        "print(f\"Average: {average}\")\n"
      ],
      "metadata": {
        "colab": {
          "base_uri": "https://localhost:8080/"
        },
        "id": "mrD2AOxVJC_c",
        "outputId": "f4f1f782-26df-41e8-8e93-d5f97f5729e4"
      },
      "execution_count": null,
      "outputs": [
        {
          "output_type": "stream",
          "name": "stdout",
          "text": [
            "Average: 20.0\n"
          ]
        }
      ]
    },
    {
      "cell_type": "code",
      "source": [
        "text = \"Python\"\n",
        "if len(text) > 6:\n",
        "    print(\"The string has more than 6 characters.\")\n",
        "else:\n",
        "    print(\"The string has 6 or fewer characters.\")"
      ],
      "metadata": {
        "colab": {
          "base_uri": "https://localhost:8080/"
        },
        "id": "3svh3HqnJMpa",
        "outputId": "f1350dca-759e-4486-f01d-f959784652b8"
      },
      "execution_count": null,
      "outputs": [
        {
          "output_type": "stream",
          "name": "stdout",
          "text": [
            "The string has 6 or fewer characters.\n"
          ]
        }
      ]
    },
    {
      "cell_type": "markdown",
      "source": [],
      "metadata": {
        "id": "eqDv9JUCpGzq"
      }
    },
    {
      "cell_type": "code",
      "source": [
        "\n",
        "import math\n",
        "radius = 7\n",
        "pi = math.pi\n",
        "areaOfCircle = pi*math.pow(radius,2)\n",
        "print(f\"Area of Circle: {areaOfCircle}\")"
      ],
      "metadata": {
        "colab": {
          "base_uri": "https://localhost:8080/"
        },
        "id": "63Ajy958pHbW",
        "outputId": "05d2b56c-4abe-498d-da27-0f26c52309db"
      },
      "execution_count": null,
      "outputs": [
        {
          "output_type": "stream",
          "name": "stdout",
          "text": [
            "Area of Circle: 153.93804002589985\n"
          ]
        }
      ]
    },
    {
      "cell_type": "code",
      "source": [
        "num1 = 15\n",
        "num2 = 25\n",
        "maximum = max(num1, num2)\n",
        "print(f\"The maximum number is: {maximum}\")\n"
      ],
      "metadata": {
        "colab": {
          "base_uri": "https://localhost:8080/"
        },
        "id": "VCpITxiNJhFl",
        "outputId": "0da5229e-4250-407f-df16-0e367335c290"
      },
      "execution_count": null,
      "outputs": [
        {
          "output_type": "stream",
          "name": "stdout",
          "text": [
            "The maximum number is: 25\n"
          ]
        }
      ]
    },
    {
      "cell_type": "code",
      "source": [
        "total_marks = 500\n",
        "obtained_marks = 400\n",
        "percentage = (obtained_marks / total_marks) * 100\n",
        "print(f\"Percentage: {percentage}%\")"
      ],
      "metadata": {
        "colab": {
          "base_uri": "https://localhost:8080/"
        },
        "id": "jLTIPI9KJxD2",
        "outputId": "693c445d-fbeb-462b-f065-0ed0cb15943c"
      },
      "execution_count": null,
      "outputs": [
        {
          "output_type": "stream",
          "name": "stdout",
          "text": [
            "Percentage: 80.0%\n"
          ]
        }
      ]
    },
    {
      "cell_type": "code",
      "source": [
        "string = input(\"Enter a string value: \")\n",
        "char_count = {}\n",
        "for char in string:\n",
        "    char_count[char] = char_count.get(char, 0) + 1\n",
        "\n",
        "for char, count in char_count.items():\n",
        "    print(f\"{char}={count}\", end=\", \")"
      ],
      "metadata": {
        "colab": {
          "base_uri": "https://localhost:8080/"
        },
        "id": "ejhrh4JhR4Xx",
        "outputId": "8c88dade-ad0a-4fae-8632-cd4cd4a752ec"
      },
      "execution_count": null,
      "outputs": [
        {
          "output_type": "stream",
          "name": "stdout",
          "text": [
            "Enter a string value:  hello\n",
            " =1, h=1, e=1, l=2, o=1, "
          ]
        }
      ]
    },
    {
      "cell_type": "markdown",
      "source": [],
      "metadata": {
        "id": "ztAfRoLppR8E"
      }
    },
    {
      "cell_type": "code",
      "source": [
        "def max_of_three(a, b, c):\n",
        "    return max(a, b, c)\n",
        "\n",
        "print(\"Maximum is:\", max_of_three(34, 12, 7))"
      ],
      "metadata": {
        "colab": {
          "base_uri": "https://localhost:8080/"
        },
        "id": "eIE0fPHISJJF",
        "outputId": "935ac51f-3bea-471b-e4a5-97a0a6ae11fb"
      },
      "execution_count": null,
      "outputs": [
        {
          "output_type": "stream",
          "name": "stdout",
          "text": [
            "Maximum is: 34\n"
          ]
        }
      ]
    },
    {
      "cell_type": "code",
      "source": [
        "def exponent(base, exp):\n",
        "    return base ** exp\n",
        "\n",
        "base = int(input(\"Enter the base: \"))\n",
        "exp = int(input(\"Enter the exponent: \"))\n",
        "print(\"Result:\", exponent(base, exp))"
      ],
      "metadata": {
        "colab": {
          "base_uri": "https://localhost:8080/"
        },
        "id": "A2twRV4ASPij",
        "outputId": "3fe3c7e3-9cbe-4491-a34d-913296f5f2be"
      },
      "execution_count": null,
      "outputs": [
        {
          "output_type": "stream",
          "name": "stdout",
          "text": [
            "Enter the base: 3\n",
            "Enter the exponent: 2\n",
            "Result: 9\n"
          ]
        }
      ]
    },
    {
      "cell_type": "code",
      "source": [],
      "metadata": {
        "id": "FTCIElHayBOw"
      },
      "execution_count": null,
      "outputs": []
    },
    {
      "cell_type": "code",
      "source": [
        "def sum_of_cubes(n):\n",
        "    return sum(i**3 for i in range(1, n))\n",
        "\n",
        "num = int(input(\"Enter a positive integer: \"))\n",
        "print(\"Sum of cubes:\", sum_of_cubes(num))"
      ],
      "metadata": {
        "colab": {
          "base_uri": "https://localhost:8080/"
        },
        "id": "CxCzMCOZSeXX",
        "outputId": "8896eb4e-7c0c-4b0e-ece2-b550fe88dc5d"
      },
      "execution_count": null,
      "outputs": [
        {
          "output_type": "stream",
          "name": "stdout",
          "text": [
            "Enter a positive integer: 3\n",
            "Sum of cubes: 9\n"
          ]
        }
      ]
    },
    {
      "cell_type": "code",
      "source": [
        "for i in range(1, 11):\n",
        "    if i % 2 == 0 and i % 5 == 0:\n",
        "        print(\"FizzBuzz\")\n",
        "    elif i % 2 == 0:\n",
        "        print(\"Fizz\")\n",
        "    elif i % 5 == 0:\n",
        "        print(\"Buzz\")\n",
        "    else:\n",
        "        print(i)\n"
      ],
      "metadata": {
        "id": "T-0_-73KSk6P",
        "colab": {
          "base_uri": "https://localhost:8080/"
        },
        "outputId": "5596ad7a-0c1b-4fd2-fa95-95a899c96d5a"
      },
      "execution_count": null,
      "outputs": [
        {
          "output_type": "stream",
          "name": "stdout",
          "text": [
            "1\n",
            "Fizz\n",
            "3\n",
            "Fizz\n",
            "Buzz\n",
            "Fizz\n",
            "7\n",
            "Fizz\n",
            "9\n",
            "FizzBuzz\n"
          ]
        }
      ]
    },
    {
      "cell_type": "code",
      "source": [
        "numbers = [2, 3, 4, 2, 5, 2]\n",
        "most_frequent = max(set(numbers), key=numbers.count)\n",
        "print(\"Most frequent item:\", most_frequent)"
      ],
      "metadata": {
        "id": "8HML8fj_S94Z",
        "colab": {
          "base_uri": "https://localhost:8080/"
        },
        "outputId": "ff0501d5-d227-49c6-e228-b367a2be1b06"
      },
      "execution_count": null,
      "outputs": [
        {
          "output_type": "stream",
          "name": "stdout",
          "text": [
            "Most frequent item: 2\n"
          ]
        }
      ]
    },
    {
      "cell_type": "code",
      "source": [
        "numbers = [2, 1, 3, 1]\n",
        "sum_squares = sum(x**2 for x in numbers)\n",
        "print(\"Sum of squares:\", sum_squares)"
      ],
      "metadata": {
        "id": "_AL97uVuTHm5",
        "colab": {
          "base_uri": "https://localhost:8080/"
        },
        "outputId": "ecb10118-267e-45dc-82f4-e440eb2d7bf5"
      },
      "execution_count": null,
      "outputs": [
        {
          "output_type": "stream",
          "name": "stdout",
          "text": [
            "Sum of squares: 15\n"
          ]
        }
      ]
    },
    {
      "cell_type": "code",
      "source": [
        "for i in range(1, 16):\n",
        "    if i % 2 == 0:\n",
        "        print(f\"{i} - even\")\n",
        "    else:\n",
        "        print(f\"{i} - odd\")"
      ],
      "metadata": {
        "id": "6LBNWdEtTdhe",
        "colab": {
          "base_uri": "https://localhost:8080/"
        },
        "outputId": "f62e8e1c-e6d3-4c2b-b912-fae678653b6b"
      },
      "execution_count": null,
      "outputs": [
        {
          "output_type": "stream",
          "name": "stdout",
          "text": [
            "1 - odd\n",
            "2 - even\n",
            "3 - odd\n",
            "4 - even\n",
            "5 - odd\n",
            "6 - even\n",
            "7 - odd\n",
            "8 - even\n",
            "9 - odd\n",
            "10 - even\n",
            "11 - odd\n",
            "12 - even\n",
            "13 - odd\n",
            "14 - even\n",
            "15 - odd\n"
          ]
        }
      ]
    },
    {
      "cell_type": "code",
      "source": [
        "f = float(input(\"Enter temperature in Fahrenheit: \"))\n",
        "c = (f - 32) * 5 / 9\n",
        "print(f\"Temperature in Celsius = {round(c)}\")"
      ],
      "metadata": {
        "id": "ZPUX83gRTo-J",
        "colab": {
          "base_uri": "https://localhost:8080/"
        },
        "outputId": "944ec7fa-a685-4ada-927f-01b4ba7336dc"
      },
      "execution_count": null,
      "outputs": [
        {
          "output_type": "stream",
          "name": "stdout",
          "text": [
            "Enter temperature in Fahrenheit: 315\n",
            "Temperature in Celsius = 157\n"
          ]
        }
      ]
    },
    {
      "cell_type": "markdown",
      "source": [],
      "metadata": {
        "id": "uhQfVeJNUcuX"
      }
    },
    {
      "cell_type": "code",
      "source": [],
      "metadata": {
        "id": "k46OLUmtDEPj"
      },
      "execution_count": null,
      "outputs": []
    },
    {
      "cell_type": "code",
      "source": [
        "def factorial(n):\n",
        "    result = 1\n",
        "    for i in range(2, n + 1):\n",
        "        result *= i\n",
        "    return result\n",
        "\n",
        "num = int(input(\"Enter a nonnegative integer: \"))\n",
        "print(\"Factorial:\", factorial(num))"
      ],
      "metadata": {
        "id": "vQgsGmd0UdSS",
        "colab": {
          "base_uri": "https://localhost:8080/"
        },
        "outputId": "b0fbff18-33ea-4149-e17a-27c0c1a653fc"
      },
      "execution_count": null,
      "outputs": [
        {
          "output_type": "stream",
          "name": "stdout",
          "text": [
            "Enter a nonnegative integer: 3\n",
            "Factorial: 6\n"
          ]
        }
      ]
    }
  ]
}