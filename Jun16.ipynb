{
  "nbformat": 4,
  "nbformat_minor": 0,
  "metadata": {
    "colab": {
      "provenance": [],
      "authorship_tag": "ABX9TyONTwL+ccWd/tzHM1fvW7vv",
      "include_colab_link": true
    },
    "kernelspec": {
      "name": "python3",
      "display_name": "Python 3"
    },
    "language_info": {
      "name": "python"
    }
  },
  "cells": [
    {
      "cell_type": "markdown",
      "metadata": {
        "id": "view-in-github",
        "colab_type": "text"
      },
      "source": [
        "<a href=\"https://colab.research.google.com/github/NithyaStanly/internship/blob/main/Jun16.ipynb\" target=\"_parent\"><img src=\"https://colab.research.google.com/assets/colab-badge.svg\" alt=\"Open In Colab\"/></a>"
      ]
    },
    {
      "cell_type": "code",
      "execution_count": null,
      "metadata": {
        "colab": {
          "base_uri": "https://localhost:8080/"
        },
        "id": "D2pl37vTeaNH",
        "outputId": "0b8bdf71-d8ef-4e13-bb8e-d62e71740a7d"
      },
      "outputs": [
        {
          "output_type": "stream",
          "name": "stdout",
          "text": [
            "welcome\n"
          ]
        }
      ],
      "source": [
        "print('welcome')"
      ]
    },
    {
      "cell_type": "code",
      "source": [
        "print(\"welcome\",\"to\",\"the\",\"session\",sep=\"-\")"
      ],
      "metadata": {
        "colab": {
          "base_uri": "https://localhost:8080/"
        },
        "id": "CRc8_ScIhAWp",
        "outputId": "8e3638c8-931d-4c18-d23e-97f763d673a2"
      },
      "execution_count": null,
      "outputs": [
        {
          "output_type": "stream",
          "name": "stdout",
          "text": [
            "welcome-to-the-session\n"
          ]
        }
      ]
    },
    {
      "cell_type": "code",
      "source": [
        "age=20\n",
        "type(age)"
      ],
      "metadata": {
        "colab": {
          "base_uri": "https://localhost:8080/"
        },
        "id": "fUTZWbbVhjkt",
        "outputId": "17483388-4510-4a6b-89b6-140bcbae8746"
      },
      "execution_count": null,
      "outputs": [
        {
          "output_type": "execute_result",
          "data": {
            "text/plain": [
              "int"
            ]
          },
          "metadata": {},
          "execution_count": 4
        }
      ]
    },
    {
      "cell_type": "code",
      "source": [
        "age=\"twenty\"\n",
        "type(age)"
      ],
      "metadata": {
        "colab": {
          "base_uri": "https://localhost:8080/"
        },
        "id": "NlDlSyN9h0VJ",
        "outputId": "b34d2f4f-3f8f-4369-c986-7750a5cda14d"
      },
      "execution_count": null,
      "outputs": [
        {
          "output_type": "execute_result",
          "data": {
            "text/plain": [
              "str"
            ]
          },
          "metadata": {},
          "execution_count": 5
        }
      ]
    },
    {
      "cell_type": "code",
      "source": [
        "tot_revenue = 35000\n",
        "name = \"roses and lillies\"\n",
        "print(name,tot_revenue)"
      ],
      "metadata": {
        "colab": {
          "base_uri": "https://localhost:8080/"
        },
        "id": "rWGtLC4Ch7ab",
        "outputId": "ff331713-b53e-45df-df04-7956ffeaec06"
      },
      "execution_count": null,
      "outputs": [
        {
          "output_type": "stream",
          "name": "stdout",
          "text": [
            "roses and lillies 35000\n"
          ]
        }
      ]
    },
    {
      "cell_type": "code",
      "source": [
        "print(f\"my business name is {name} and my revenue is {tot_revenue}\")"
      ],
      "metadata": {
        "colab": {
          "base_uri": "https://localhost:8080/"
        },
        "id": "2RYfyQCLihZr",
        "outputId": "03a0904b-8532-4c45-edb7-61f2cb3df812"
      },
      "execution_count": null,
      "outputs": [
        {
          "output_type": "stream",
          "name": "stdout",
          "text": [
            "my business name is roses and lillies and my revenue is 35000\n"
          ]
        }
      ]
    },
    {
      "cell_type": "code",
      "source": [
        "print(\"my business {} has revenue of {} rupees\".format(name,tot_revenue))"
      ],
      "metadata": {
        "colab": {
          "base_uri": "https://localhost:8080/"
        },
        "id": "Oph5Hk1Fiujq",
        "outputId": "f93f53c3-fb90-4e79-beea-15bd01ddafa9"
      },
      "execution_count": null,
      "outputs": [
        {
          "output_type": "stream",
          "name": "stdout",
          "text": [
            "my business roses and lillies has revenue of 35000 rupees\n"
          ]
        }
      ]
    },
    {
      "cell_type": "code",
      "source": [
        "name2=int(input(\"what is your age\"))\n",
        "print(type(name2))"
      ],
      "metadata": {
        "colab": {
          "base_uri": "https://localhost:8080/"
        },
        "id": "zvyvwkD3jMnx",
        "outputId": "0308d6d6-751a-426b-a72e-d5fec1408bff"
      },
      "execution_count": null,
      "outputs": [
        {
          "output_type": "stream",
          "name": "stdout",
          "text": [
            "what is your age20\n",
            "<class 'int'>\n"
          ]
        }
      ]
    },
    {
      "cell_type": "code",
      "source": [
        "message = \"its good to see you all.\"\n",
        "len(message)"
      ],
      "metadata": {
        "colab": {
          "base_uri": "https://localhost:8080/"
        },
        "id": "UnRkJMoPxJDI",
        "outputId": "e2cd2dbd-40f6-4bdf-a31f-ebe6909c7c4a"
      },
      "execution_count": null,
      "outputs": [
        {
          "output_type": "execute_result",
          "data": {
            "text/plain": [
              "24"
            ]
          },
          "metadata": {},
          "execution_count": 13
        }
      ]
    },
    {
      "cell_type": "code",
      "source": [
        "message[0]"
      ],
      "metadata": {
        "colab": {
          "base_uri": "https://localhost:8080/",
          "height": 35
        },
        "id": "cQjzjQjqxeIe",
        "outputId": "4eaaea22-bd0d-4c28-ee3b-202bf9da1074"
      },
      "execution_count": null,
      "outputs": [
        {
          "output_type": "execute_result",
          "data": {
            "text/plain": [
              "'i'"
            ],
            "application/vnd.google.colaboratory.intrinsic+json": {
              "type": "string"
            }
          },
          "metadata": {},
          "execution_count": 15
        }
      ]
    },
    {
      "cell_type": "code",
      "source": [
        "message[-1]"
      ],
      "metadata": {
        "colab": {
          "base_uri": "https://localhost:8080/",
          "height": 35
        },
        "id": "i42yxVdwxtSJ",
        "outputId": "e701f5f8-20eb-4f0c-cc90-7e0b1eaa7be9"
      },
      "execution_count": null,
      "outputs": [
        {
          "output_type": "execute_result",
          "data": {
            "text/plain": [
              "'.'"
            ],
            "application/vnd.google.colaboratory.intrinsic+json": {
              "type": "string"
            }
          },
          "metadata": {},
          "execution_count": 16
        }
      ]
    },
    {
      "cell_type": "code",
      "source": [
        "message[]"
      ],
      "metadata": {
        "colab": {
          "base_uri": "https://localhost:8080/",
          "height": 35
        },
        "id": "rCf81bQGxy4t",
        "outputId": "ccbcc0f6-3c76-4710-9c08-a435c40a433a"
      },
      "execution_count": null,
      "outputs": [
        {
          "output_type": "execute_result",
          "data": {
            "text/plain": [
              "' '"
            ],
            "application/vnd.google.colaboratory.intrinsic+json": {
              "type": "string"
            }
          },
          "metadata": {},
          "execution_count": 20
        }
      ]
    },
    {
      "cell_type": "code",
      "source": [
        "message2=\"See you ,tommorow\"\n",
        "new_msg=message+message2\n",
        "new_msg"
      ],
      "metadata": {
        "colab": {
          "base_uri": "https://localhost:8080/",
          "height": 35
        },
        "id": "8xMj16l5y-JU",
        "outputId": "e2fad2cb-8508-45f1-bb50-50a7655c1b86"
      },
      "execution_count": null,
      "outputs": [
        {
          "output_type": "execute_result",
          "data": {
            "text/plain": [
              "'its good to see you all.See you ,tommorow'"
            ],
            "application/vnd.google.colaboratory.intrinsic+json": {
              "type": "string"
            }
          },
          "metadata": {},
          "execution_count": 35
        }
      ]
    },
    {
      "cell_type": "code",
      "source": [
        "print(message2.lower())"
      ],
      "metadata": {
        "colab": {
          "base_uri": "https://localhost:8080/"
        },
        "id": "_g-BfI0TzvCs",
        "outputId": "bada3110-3cae-48f9-95f7-cd8c365607df"
      },
      "execution_count": null,
      "outputs": [
        {
          "output_type": "stream",
          "name": "stdout",
          "text": [
            "see you ,tommorow\n"
          ]
        }
      ]
    },
    {
      "cell_type": "code",
      "source": [
        "print(message2.strip())"
      ],
      "metadata": {
        "colab": {
          "base_uri": "https://localhost:8080/"
        },
        "id": "908lrS3i0HBJ",
        "outputId": "99ea4540-083d-4781-f795-3aa056617541"
      },
      "execution_count": null,
      "outputs": [
        {
          "output_type": "stream",
          "name": "stdout",
          "text": [
            "See you ,tommorow\n"
          ]
        }
      ]
    },
    {
      "cell_type": "code",
      "source": [
        "\n",
        "print(message2.replace(\"See\", \"Python\"))\n"
      ],
      "metadata": {
        "colab": {
          "base_uri": "https://localhost:8080/"
        },
        "id": "e5lUkE5P0N5i",
        "outputId": "8be1695b-7def-4c27-988f-66e16a7be0b7"
      },
      "execution_count": null,
      "outputs": [
        {
          "output_type": "stream",
          "name": "stdout",
          "text": [
            "Python you ,tommorow\n"
          ]
        }
      ]
    },
    {
      "cell_type": "code",
      "source": [
        "\n",
        "print(message2.split(\",\"))\n"
      ],
      "metadata": {
        "colab": {
          "base_uri": "https://localhost:8080/"
        },
        "id": "Y_JvQqrF0hXP",
        "outputId": "3f772173-ba02-4f1d-8e9b-707ae7a7b089"
      },
      "execution_count": null,
      "outputs": [
        {
          "output_type": "stream",
          "name": "stdout",
          "text": [
            "['See you ', 'tommorow']\n"
          ]
        }
      ]
    },
    {
      "cell_type": "code",
      "source": [
        "movies=[\n",
        "    {\"title\":\"Inception\",\"year\":2010,\"ratings\":[8,9,10,9]},\n",
        "    {\"title\":\"Titanic\",\"year\":1997,\"ratings\":[9,8,9,10]},\n",
        "    {\"title\":\"The Matrix\",\"year\":1999,\"ratings\":[10,9,10,10]},\n",
        "    {\"title\":\"Interstellar\",\"year\":2014,\"ratings\":[9,8,10,9]}\n",
        "]"
      ],
      "metadata": {
        "id": "Ay44xwmC_1Hg"
      },
      "execution_count": null,
      "outputs": []
    },
    {
      "cell_type": "code",
      "source": [
        "new_movie = {\"title\": \"Avengers\", \"year\": 2019, \"ratings\": [9, 10, 9, 10]}\n",
        "movies.append(new_movie)\n",
        "print(movies)"
      ],
      "metadata": {
        "colab": {
          "base_uri": "https://localhost:8080/"
        },
        "id": "3R_IHJ7n4Z2l",
        "outputId": "e445ed9f-0e4a-42c6-a2e3-113a8016a4a4"
      },
      "execution_count": null,
      "outputs": [
        {
          "output_type": "stream",
          "name": "stdout",
          "text": [
            "[{'title': 'Inception', 'year': 2010, 'ratings': [8, 9, 10, 9]}, {'title': 'Titanic', 'year': 1997, 'ratings': [9, 8, 9, 10]}, {'title': 'The Matrix', 'year': 1999, 'ratings': [10, 9, 10, 10]}, {'title': 'Interstellar', 'year': 2014, 'ratings': [9, 8, 10, 9]}, {'title': 'Avengers', 'year': 2019, 'ratings': [9, 10, 9, 10]}]\n"
          ]
        }
      ]
    },
    {
      "cell_type": "code",
      "source": [
        "\n",
        "for movie in movies:\n",
        "    if movie[\"title\"] == \"Titanic\":\n",
        "        movie[\"ratings\"].extend([10, 9, 8])\n",
        "        break\n",
        "print(movies)"
      ],
      "metadata": {
        "colab": {
          "base_uri": "https://localhost:8080/"
        },
        "id": "HAoTi0JO6QXF",
        "outputId": "08729785-dd30-4464-8d42-b767126224b2"
      },
      "execution_count": null,
      "outputs": [
        {
          "output_type": "stream",
          "name": "stdout",
          "text": [
            "[{'title': 'Inception', 'year': 2010, 'ratings': [8, 9, 10, 9]}, {'title': 'Titanic', 'year': 1997, 'ratings': [9, 8, 9, 10, 10, 9, 8]}, {'title': 'The Matrix', 'year': 1999, 'ratings': [10, 9, 10, 10]}, {'title': 'Interstellar', 'year': 2014, 'ratings': [9, 8, 10, 9]}, {'title': 'Avengers', 'year': 2019, 'ratings': [9, 10, 9, 10]}]\n"
          ]
        }
      ]
    },
    {
      "cell_type": "markdown",
      "source": [],
      "metadata": {
        "id": "j2VTeFFd_ODU"
      }
    },
    {
      "cell_type": "code",
      "source": [
        "for movie in movies:\n",
        "    ratings = movie[\"ratings\"]\n",
        "    avg = sum(ratings) / len(ratings)\n",
        "    print(f\"{movie['title']} → Average Rating: {avg:.2f}\")\n"
      ],
      "metadata": {
        "colab": {
          "base_uri": "https://localhost:8080/"
        },
        "id": "wpcAv7cL6YGc",
        "outputId": "8d79e59c-fcfb-45fb-f8d2-4ff38f2799e7"
      },
      "execution_count": null,
      "outputs": [
        {
          "output_type": "stream",
          "name": "stdout",
          "text": [
            "Inception → Average Rating: 9.00\n",
            "Titanic → Average Rating: 9.00\n",
            "The Matrix → Average Rating: 9.75\n",
            "Interstellar → Average Rating: 9.00\n",
            "Avengers → Average Rating: 9.50\n"
          ]
        }
      ]
    },
    {
      "cell_type": "code",
      "source": [
        "for movie in movies:\n",
        "    if movie[\"title\"] == \"Titanic\":\n",
        "        movie[\"year\"] = 1998\n",
        "        break\n",
        "print(movies)"
      ],
      "metadata": {
        "colab": {
          "base_uri": "https://localhost:8080/"
        },
        "id": "q-knzu1S6i3u",
        "outputId": "54fce22a-36b6-40d9-9285-6ce6fe40a468"
      },
      "execution_count": null,
      "outputs": [
        {
          "output_type": "stream",
          "name": "stdout",
          "text": [
            "[{'title': 'Inception', 'year': 2010, 'ratings': [8, 9, 10, 9]}, {'title': 'Titanic', 'year': 1998, 'ratings': [9, 8, 9, 10, 10, 9, 8]}, {'title': 'The Matrix', 'year': 1999, 'ratings': [10, 9, 10, 10]}, {'title': 'Interstellar', 'year': 2014, 'ratings': [9, 8, 10, 9]}, {'title': 'Avengers', 'year': 2019, 'ratings': [9, 10, 9, 10]}]\n"
          ]
        }
      ]
    },
    {
      "cell_type": "code",
      "source": [
        "highest_avg = 0\n",
        "top_movie = \"\"\n",
        "\n",
        "for movie in movies:\n",
        "    avg = sum(movie[\"ratings\"]) / len(movie[\"ratings\"])\n",
        "    if avg > highest_avg:\n",
        "        highest_avg = avg\n",
        "        top_movie = movie[\"title\"]\n",
        "\n",
        "print(f\" Highest Rated Movie: {top_movie} → Average Rating: {highest_avg:.2f}\")\n"
      ],
      "metadata": {
        "colab": {
          "base_uri": "https://localhost:8080/"
        },
        "id": "gXs7Cp2r6zgH",
        "outputId": "4f4f4916-c587-414d-c723-199f5cfcad06"
      },
      "execution_count": null,
      "outputs": [
        {
          "output_type": "stream",
          "name": "stdout",
          "text": [
            " Highest Rated Movie: The Matrix → Average Rating: 9.75\n"
          ]
        }
      ]
    },
    {
      "cell_type": "code",
      "source": [
        "for movie in movies:\n",
        "    if movie[\"title\"] == \"Interstellar\":\n",
        "        movies.remove(movie)\n",
        "        break\n",
        "print(movies)"
      ],
      "metadata": {
        "colab": {
          "base_uri": "https://localhost:8080/"
        },
        "id": "cMQnaa5s7EKa",
        "outputId": "d544c9a8-c30e-4959-9436-3fea86a84a2b"
      },
      "execution_count": null,
      "outputs": [
        {
          "output_type": "stream",
          "name": "stdout",
          "text": [
            "[{'title': 'Inception', 'year': 2010, 'ratings': [8, 9, 10, 9]}, {'title': 'Titanic', 'year': 1998, 'ratings': [9, 8, 9, 10, 10, 9, 8]}, {'title': 'The Matrix', 'year': 1999, 'ratings': [10, 9, 10, 10]}, {'title': 'Avengers', 'year': 2019, 'ratings': [9, 10, 9, 10]}]\n"
          ]
        }
      ]
    },
    {
      "cell_type": "code",
      "source": [
        "for movie in movies:\n",
        "    avg = sum(movie[\"ratings\"]) / len(movie[\"ratings\"])\n",
        "    if avg >= 9:\n",
        "        print(f\"{movie['title']} → Average Rating: {avg:.2f}\")\n"
      ],
      "metadata": {
        "colab": {
          "base_uri": "https://localhost:8080/"
        },
        "id": "NhL588jz7Qr0",
        "outputId": "e5bba60f-3b67-4ebd-e19a-2cf6d0ba7d77"
      },
      "execution_count": null,
      "outputs": [
        {
          "output_type": "stream",
          "name": "stdout",
          "text": [
            "Inception → Average Rating: 9.00\n",
            "Titanic → Average Rating: 9.00\n",
            "The Matrix → Average Rating: 9.75\n",
            "Avengers → Average Rating: 9.50\n"
          ]
        }
      ]
    },
    {
      "cell_type": "markdown",
      "source": [],
      "metadata": {
        "id": "pq1y_HuYGx6I"
      }
    },
    {
      "cell_type": "code",
      "source": [
        "def calculate_total(scores):\n",
        "  return sum(scores)"
      ],
      "metadata": {
        "id": "OqbMovk8Ib3l"
      },
      "execution_count": null,
      "outputs": []
    },
    {
      "cell_type": "code",
      "source": [
        "def calculate_avg(scores):\n",
        "  if not scores:\n",
        "    return 0\n",
        "    return sum(scores)/len(scores)\n",
        "\n"
      ],
      "metadata": {
        "id": "CW5P0vNnIqMG"
      },
      "execution_count": null,
      "outputs": []
    },
    {
      "cell_type": "code",
      "source": [
        "def determine_grade(avg):\n",
        "    if avg >= 85:\n",
        "        return 'A'\n",
        "    elif avg >= 60:\n",
        "        return 'B'\n",
        "    elif avg >= 45:\n",
        "        return 'C'\n",
        "    else:\n",
        "        return 'D'\n",
        "\n",
        "    print(f\"Total Score  : {total}\")\n",
        "    print(f\"Average Score: {avg:.2f}\")\n",
        "    print(f\"Grade        : {grade}\")"
      ],
      "metadata": {
        "id": "NYw2_qA4Jsd7"
      },
      "execution_count": null,
      "outputs": []
    },
    {
      "cell_type": "code",
      "source": [
        "student=[\n",
        "    {\"subj\":\"english\",\"score\":35},\n",
        "    {\"subj\":\"maths\",\"score\":20},\n",
        "    {\"subj\":\"cs\",\"score\":47},\n",
        "    {\"subj\":\"hindi\",\"score\":30},\n",
        "]\n",
        "print"
      ],
      "metadata": {
        "id": "PhSJ4p3lJ0se"
      },
      "execution_count": null,
      "outputs": []
    },
    {
      "cell_type": "code",
      "source": [
        "import numpy as np"
      ],
      "metadata": {
        "id": "DEwcGTOjQJFJ"
      },
      "execution_count": null,
      "outputs": []
    },
    {
      "cell_type": "code",
      "source": [
        "my_list=[1,2,3,4]\n",
        "type(my_list)"
      ],
      "metadata": {
        "colab": {
          "base_uri": "https://localhost:8080/"
        },
        "id": "TB3OyHtLQhsd",
        "outputId": "3d635192-896b-4900-fa48-5d6c9c0267c9"
      },
      "execution_count": null,
      "outputs": [
        {
          "output_type": "execute_result",
          "data": {
            "text/plain": [
              "list"
            ]
          },
          "metadata": {},
          "execution_count": 97
        }
      ]
    },
    {
      "cell_type": "code",
      "source": [
        "my_arr=np.array(my_list)\n",
        "type(my_arr)"
      ],
      "metadata": {
        "colab": {
          "base_uri": "https://localhost:8080/"
        },
        "id": "TNZl0sbuQyFz",
        "outputId": "00fb726d-1e4d-49df-d9b6-6ab19a97a43c"
      },
      "execution_count": null,
      "outputs": [
        {
          "output_type": "execute_result",
          "data": {
            "text/plain": [
              "numpy.ndarray"
            ]
          },
          "metadata": {},
          "execution_count": 98
        }
      ]
    },
    {
      "cell_type": "code",
      "source": [
        "my_list"
      ],
      "metadata": {
        "colab": {
          "base_uri": "https://localhost:8080/"
        },
        "id": "Nak1e2CWQyCU",
        "outputId": "0d2273ab-c842-4d77-9c82-de7a212f682c"
      },
      "execution_count": null,
      "outputs": [
        {
          "output_type": "execute_result",
          "data": {
            "text/plain": [
              "[1, 2, 3, 4]"
            ]
          },
          "metadata": {},
          "execution_count": 99
        }
      ]
    },
    {
      "cell_type": "code",
      "source": [
        "my_arr.shape"
      ],
      "metadata": {
        "colab": {
          "base_uri": "https://localhost:8080/"
        },
        "id": "bh3NE4oeQx_N",
        "outputId": "bbe81ced-d5ba-47a2-b959-e855e67c81cd"
      },
      "execution_count": null,
      "outputs": [
        {
          "output_type": "execute_result",
          "data": {
            "text/plain": [
              "(4,)"
            ]
          },
          "metadata": {},
          "execution_count": 100
        }
      ]
    },
    {
      "cell_type": "code",
      "source": [
        "my_arr.size"
      ],
      "metadata": {
        "colab": {
          "base_uri": "https://localhost:8080/"
        },
        "id": "FQuZM0m2Qx9b",
        "outputId": "71f70ea0-915b-4753-bda3-ba316d3fd046"
      },
      "execution_count": null,
      "outputs": [
        {
          "output_type": "execute_result",
          "data": {
            "text/plain": [
              "4"
            ]
          },
          "metadata": {},
          "execution_count": 101
        }
      ]
    },
    {
      "cell_type": "code",
      "source": [
        "my_arr.ndim"
      ],
      "metadata": {
        "colab": {
          "base_uri": "https://localhost:8080/"
        },
        "id": "1A-l-HHwRD1B",
        "outputId": "4f0cd4d5-c38f-4010-85ca-ef1cbe05196e"
      },
      "execution_count": null,
      "outputs": [
        {
          "output_type": "execute_result",
          "data": {
            "text/plain": [
              "1"
            ]
          },
          "metadata": {},
          "execution_count": 102
        }
      ]
    },
    {
      "cell_type": "code",
      "source": [
        "my_arr[3]"
      ],
      "metadata": {
        "colab": {
          "base_uri": "https://localhost:8080/"
        },
        "id": "HoO0xbMcRUtr",
        "outputId": "02dc24ad-f2d4-4534-bc0e-02f8ad59f2c8"
      },
      "execution_count": null,
      "outputs": [
        {
          "output_type": "execute_result",
          "data": {
            "text/plain": [
              "np.int64(4)"
            ]
          },
          "metadata": {},
          "execution_count": 103
        }
      ]
    },
    {
      "cell_type": "code",
      "source": [
        "my_arr2=np.array([\n",
        "    [1,12,23,4],\n",
        "    [5,26,17,8],\n",
        "    [45,21,61,83]\n",
        "])\n",
        "my_arr2"
      ],
      "metadata": {
        "colab": {
          "base_uri": "https://localhost:8080/"
        },
        "id": "kpAJZsgvRUws",
        "outputId": "b11be2be-3cd8-49e0-bd22-890ef1f672d9"
      },
      "execution_count": null,
      "outputs": [
        {
          "output_type": "execute_result",
          "data": {
            "text/plain": [
              "array([[ 1, 12, 23,  4],\n",
              "       [ 5, 26, 17,  8],\n",
              "       [45, 21, 61, 83]])"
            ]
          },
          "metadata": {},
          "execution_count": 125
        }
      ]
    },
    {
      "cell_type": "code",
      "source": [
        "my_arr2.shape\n"
      ],
      "metadata": {
        "colab": {
          "base_uri": "https://localhost:8080/"
        },
        "id": "VQHgmUbQRVFR",
        "outputId": "22cbe7c9-2113-40ca-cfc6-72f4e40895e9"
      },
      "execution_count": null,
      "outputs": [
        {
          "output_type": "execute_result",
          "data": {
            "text/plain": [
              "(2, 4)"
            ]
          },
          "metadata": {},
          "execution_count": 107
        }
      ]
    },
    {
      "cell_type": "code",
      "source": [
        "my_arr2.shape\n"
      ],
      "metadata": {
        "colab": {
          "base_uri": "https://localhost:8080/"
        },
        "id": "aDMOL91uRVIR",
        "outputId": "5030269a-6f1c-409e-901b-8e817de3ecce"
      },
      "execution_count": null,
      "outputs": [
        {
          "output_type": "execute_result",
          "data": {
            "text/plain": [
              "8"
            ]
          },
          "metadata": {},
          "execution_count": 108
        }
      ]
    },
    {
      "cell_type": "code",
      "source": [
        "np.max(my_arr2)"
      ],
      "metadata": {
        "colab": {
          "base_uri": "https://localhost:8080/"
        },
        "id": "5p5Aam0nRDxu",
        "outputId": "2ca9c43e-6e95-463d-bc9e-613edbaecb9a"
      },
      "execution_count": null,
      "outputs": [
        {
          "output_type": "execute_result",
          "data": {
            "text/plain": [
              "np.int64(26)"
            ]
          },
          "metadata": {},
          "execution_count": 113
        }
      ]
    },
    {
      "cell_type": "code",
      "source": [
        "np.sort(my_arr2)"
      ],
      "metadata": {
        "colab": {
          "base_uri": "https://localhost:8080/"
        },
        "id": "yK-Lu8PaRDv3",
        "outputId": "96c01d50-ea75-4233-8a0a-a8d464b8d92a"
      },
      "execution_count": null,
      "outputs": [
        {
          "output_type": "execute_result",
          "data": {
            "text/plain": [
              "array([[ 1,  4, 12, 23],\n",
              "       [ 5,  8, 17, 26]])"
            ]
          },
          "metadata": {},
          "execution_count": 112
        }
      ]
    },
    {
      "cell_type": "code",
      "source": [
        "np.min(my_arr2)"
      ],
      "metadata": {
        "colab": {
          "base_uri": "https://localhost:8080/"
        },
        "id": "ZibCpQ4CTHcj",
        "outputId": "e1b9587f-b0b3-47ef-ba0c-e007cf5a700b"
      },
      "execution_count": null,
      "outputs": [
        {
          "output_type": "execute_result",
          "data": {
            "text/plain": [
              "np.int64(1)"
            ]
          },
          "metadata": {},
          "execution_count": 114
        }
      ]
    },
    {
      "cell_type": "code",
      "source": [
        "np.sum(my_arr2)"
      ],
      "metadata": {
        "colab": {
          "base_uri": "https://localhost:8080/"
        },
        "id": "ORWe78aORDrO",
        "outputId": "48537a97-6853-4e9f-c2bf-fd1ad1ba16d1"
      },
      "execution_count": null,
      "outputs": [
        {
          "output_type": "execute_result",
          "data": {
            "text/plain": [
              "np.int64(96)"
            ]
          },
          "metadata": {},
          "execution_count": 116
        }
      ]
    },
    {
      "cell_type": "code",
      "source": [
        "my_arr2"
      ],
      "metadata": {
        "colab": {
          "base_uri": "https://localhost:8080/"
        },
        "id": "Wqp4e_arRDdD",
        "outputId": "76249fd0-6155-4bea-a3a3-af33d338f37e"
      },
      "execution_count": null,
      "outputs": [
        {
          "output_type": "execute_result",
          "data": {
            "text/plain": [
              "array([[ 1, 12, 23,  4],\n",
              "       [ 5, 26, 17,  8]])"
            ]
          },
          "metadata": {},
          "execution_count": 118
        }
      ]
    },
    {
      "cell_type": "code",
      "source": [
        "my_arr2[1:,2:]"
      ],
      "metadata": {
        "colab": {
          "base_uri": "https://localhost:8080/"
        },
        "id": "GQcC99niToCa",
        "outputId": "1aa3c325-38bc-4675-eb45-63e006c5729a"
      },
      "execution_count": null,
      "outputs": [
        {
          "output_type": "execute_result",
          "data": {
            "text/plain": [
              "array([[17,  8]])"
            ]
          },
          "metadata": {},
          "execution_count": 119
        }
      ]
    },
    {
      "cell_type": "code",
      "source": [
        "np.transpose(my_arr2)"
      ],
      "metadata": {
        "colab": {
          "base_uri": "https://localhost:8080/"
        },
        "id": "ytL1yiqJToJd",
        "outputId": "6e7a70d7-de62-4ca5-c8f1-9349f0ed29bb"
      },
      "execution_count": null,
      "outputs": [
        {
          "output_type": "execute_result",
          "data": {
            "text/plain": [
              "array([[ 1,  5, 45],\n",
              "       [12, 26, 21],\n",
              "       [23, 17, 61],\n",
              "       [ 4,  8, 83]])"
            ]
          },
          "metadata": {},
          "execution_count": 126
        }
      ]
    },
    {
      "cell_type": "code",
      "source": [
        "reshaped_arr = my_arr2.reshape(4, 3)\n",
        "print(reshaped_arr)"
      ],
      "metadata": {
        "colab": {
          "base_uri": "https://localhost:8080/"
        },
        "id": "NsRp38iiVFN7",
        "outputId": "3d4bd285-22f6-4921-a665-01096b175279"
      },
      "execution_count": null,
      "outputs": [
        {
          "output_type": "stream",
          "name": "stdout",
          "text": [
            "[[ 1 12 23]\n",
            " [ 4  5 26]\n",
            " [17  8 45]\n",
            " [21 61 83]]\n"
          ]
        }
      ]
    },
    {
      "cell_type": "code",
      "source": [
        "print( np.argmax(my_arr2))\n"
      ],
      "metadata": {
        "colab": {
          "base_uri": "https://localhost:8080/"
        },
        "id": "1fXKJxgsVFRJ",
        "outputId": "9ec070ec-6fbf-4f25-c8ab-dadfe5e48af8"
      },
      "execution_count": null,
      "outputs": [
        {
          "output_type": "stream",
          "name": "stdout",
          "text": [
            "11\n"
          ]
        }
      ]
    },
    {
      "cell_type": "code",
      "source": [
        "print( np.unique(my_arr2))"
      ],
      "metadata": {
        "colab": {
          "base_uri": "https://localhost:8080/"
        },
        "id": "y-tq2tQMVf6_",
        "outputId": "e25a010b-cfb4-4731-c045-be1761d76a52"
      },
      "execution_count": null,
      "outputs": [
        {
          "output_type": "stream",
          "name": "stdout",
          "text": [
            "[ 1  4  5  8 12 17 21 23 26 45 61 83]\n"
          ]
        }
      ]
    },
    {
      "cell_type": "code",
      "source": [
        "print( np.where(my_arr2 > 20))\n"
      ],
      "metadata": {
        "colab": {
          "base_uri": "https://localhost:8080/"
        },
        "id": "xY_zeHDMVf9B",
        "outputId": "2611d2a0-8280-4f69-e07e-3507f298b581"
      },
      "execution_count": null,
      "outputs": [
        {
          "output_type": "stream",
          "name": "stdout",
          "text": [
            "(array([0, 1, 2, 2, 2, 2]), array([2, 1, 0, 1, 2, 3]))\n"
          ]
        }
      ]
    },
    {
      "cell_type": "code",
      "source": [
        "range_arr = np.arange(1, 13).reshape(3, 4)\n",
        "print( range_arr)\n"
      ],
      "metadata": {
        "colab": {
          "base_uri": "https://localhost:8080/"
        },
        "id": "JIZbPo3qWnO-",
        "outputId": "e6934ed5-a467-4e3f-e178-93ed324a1755"
      },
      "execution_count": null,
      "outputs": [
        {
          "output_type": "stream",
          "name": "stdout",
          "text": [
            "[[ 1  2  3  4]\n",
            " [ 5  6  7  8]\n",
            " [ 9 10 11 12]]\n"
          ]
        }
      ]
    },
    {
      "cell_type": "code",
      "source": [
        "print(\"Diagonal elements:\", my_arr2.diagonal())\n"
      ],
      "metadata": {
        "colab": {
          "base_uri": "https://localhost:8080/"
        },
        "id": "GS5u7aOXVgCu",
        "outputId": "1f262cfa-faa0-487f-beb4-268ced96763b"
      },
      "execution_count": null,
      "outputs": [
        {
          "output_type": "stream",
          "name": "stdout",
          "text": [
            "[ 1 26 61]\n"
          ]
        }
      ]
    },
    {
      "cell_type": "code",
      "source": [
        "np.random.random((4,3))"
      ],
      "metadata": {
        "colab": {
          "base_uri": "https://localhost:8080/"
        },
        "id": "_pmgyGaxXg-C",
        "outputId": "86c0d4d5-0d7d-494a-ea1a-c6ebff25fa20"
      },
      "execution_count": null,
      "outputs": [
        {
          "output_type": "execute_result",
          "data": {
            "text/plain": [
              "array([[0.56023098, 0.50086226, 0.33503294],\n",
              "       [0.44252808, 0.13356174, 0.23041651],\n",
              "       [0.10467593, 0.81745399, 0.27189542],\n",
              "       [0.04744532, 0.64298269, 0.68364499]])"
            ]
          },
          "metadata": {},
          "execution_count": 138
        }
      ]
    },
    {
      "cell_type": "code",
      "source": [
        "np.random.randint(10,100,(2,6))"
      ],
      "metadata": {
        "colab": {
          "base_uri": "https://localhost:8080/"
        },
        "id": "tgPK4G9_XhA9",
        "outputId": "67ffb159-9611-43f9-e2b2-63b22c37a808"
      },
      "execution_count": null,
      "outputs": [
        {
          "output_type": "execute_result",
          "data": {
            "text/plain": [
              "array([[76, 35, 50, 70, 58, 82],\n",
              "       [57, 50, 36, 96, 87, 30]])"
            ]
          },
          "metadata": {},
          "execution_count": 140
        }
      ]
    }
  ]
}